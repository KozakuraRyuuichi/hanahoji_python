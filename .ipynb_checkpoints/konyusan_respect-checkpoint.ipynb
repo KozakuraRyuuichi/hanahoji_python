{
 "cells": [
  {
   "cell_type": "code",
   "execution_count": 14,
   "metadata": {},
   "outputs": [],
   "source": [
    "import numpy as np\n",
    "import cv2\n",
    "import time"
   ]
  },
  {
   "cell_type": "code",
   "execution_count": 15,
   "metadata": {},
   "outputs": [
    {
     "data": {
      "text/plain": [
       "True"
      ]
     },
     "execution_count": 15,
     "metadata": {},
     "output_type": "execute_result"
    }
   ],
   "source": [
    "cap = cv2.VideoCapture(1)\n",
    "# cap.set(cv2.CAP_PROP_FPS, 10)\n",
    "cap.set(cv2.CAP_PROP_FRAME_WIDTH, 800) # カメラ画像の横幅を1280に設定\n",
    "cap.set(cv2.CAP_PROP_FRAME_HEIGHT, 850) # カメラ画像の縦幅を720に設定"
   ]
  },
  {
   "cell_type": "code",
   "execution_count": 16,
   "metadata": {},
   "outputs": [],
   "source": [
    "cascade_path =  \"opencv-master/data/haarcascades_cuda/haarcascade_frontalface_default.xml\""
   ]
  },
  {
   "cell_type": "code",
   "execution_count": 17,
   "metadata": {},
   "outputs": [],
   "source": [
    "cascade = cv2.CascadeClassifier(cascade_path)\n",
    "#顔認識の枠の色\n",
    "color = (255, 0, 0)\n",
    "\n",
    "lower_black = np.array([0, 0, 0])\n",
    "upper_black = np.array([50, 50, 50])\n",
    "# upper_black = np.array([5, 5, 5])"
   ]
  },
  {
   "cell_type": "code",
   "execution_count": 18,
   "metadata": {},
   "outputs": [],
   "source": [
    "while(True):\n",
    "    ret, frame = cap.read()\n",
    "\n",
    "    # 左右反転\n",
    "    frame = cv2.flip(frame, 1)\n",
    "    window_height, window_width = frame.shape[:2]\n",
    "\n",
    "    # フレームをHSVに変換\n",
    "    hsv = cv2.cvtColor(frame, cv2.COLOR_BGR2HSV)\n",
    "    # 指定した色に基づいたマスク画像の生成\n",
    "    # 対象領域が白くなっている\n",
    "    # 色の上限をlower_blackとupper_blackにする\n",
    "    img_mask = cv2.inRange(hsv, lower_black, upper_black)\n",
    "\n",
    "    # 顔認識\n",
    "    gray = cv2.cvtColor(frame, cv2.COLOR_BGR2GRAY)\n",
    "    faces = cascade.detectMultiScale(gray, scaleFactor=1.1, minNeighbors=10, minSize=(100, 100))\n",
    "    # 顔の領域は1つとする\n",
    "    if len(faces) < 1:\n",
    "        # とりあえず顔判別できなかったら終了処理する。メソッドかした方がいい\n",
    "        # ここで表示しちゃうと全力でチンコが映るのでコメント化\n",
    "        cv2.imshow('frame',frame)\n",
    "        if cv2.waitKey(5) & 0xFF == ord('q'):\n",
    "            break\n",
    "        continue\n",
    "\n",
    "    face = faces[0]\n",
    "    # 囲う四角の左上の座標\n",
    "    coordinates = tuple(face[0:2])\n",
    "    # (囲う四角の横の長さ, 囲う四角の縦の長さ)\n",
    "    length = tuple(face[0:2] + face[2:4])\n",
    "    # 四角で囲う処理\n",
    "    # cv2.rectangle(frame, coordinates, length, color, thickness=2)\n",
    "\n",
    "    # 顔の領域\n",
    "    x = face[0]\n",
    "    w = x + face[2]\n",
    "    y = face[1]\n",
    "    h = y + face[3]\n",
    "\n",
    "    # 検索範囲を下の方にする下駄\n",
    "    # 顔の幅に係数をかけて算出する\n",
    "    # y_d = int(face[2] * 0)\n",
    "    y_d = int(face[2] * 3.5)\n",
    "\n",
    "    searched_frame = img_mask[(y + y_d):(h + y_d), x:w]\n",
    "    # 検索範囲を四角で囲う処理\n",
    "    # cv2.rectangle(frame, (x, (y + y_d)), (w, (h + y_d)), color, thickness=1)\n",
    "\n",
    "    t_x = -1\n",
    "    t_y = -1\n",
    "\n",
    "    for i, row in enumerate(searched_frame):\n",
    "        for j, cell in enumerate(row):\n",
    "            if cell == 255:\n",
    "                t_y = i\n",
    "                t_x = j\n",
    "                break\n",
    "        else:\n",
    "            continue\n",
    "        break\n",
    "\n",
    "    #frame[行 start:行 end, 列 strat:列 end]\n",
    "\n",
    "    # Tnkをマスクするサイズ\n",
    "    tnk_w = int(face[2] * 0.9)\n",
    "    tnk_h = int(face[2] * 1.0)\n",
    "\n",
    "    #モザイク処理\n",
    "    mosaicWidth = 25\n",
    "    mosaicHeight = 25\n",
    "    if t_x > 0 and t_y > 0:\n",
    "        for j in range(y + y_d + t_y, y + y_d + t_y + tnk_h, mosaicHeight):\n",
    "            for i in range(x + t_x, x + t_x + tnk_w, mosaicWidth):\n",
    "                # ウインドウサイズを超えたらエラーになるのを避ける\n",
    "                if (j >= window_height or i >= window_width):\n",
    "                      continue\n",
    "\n",
    "                if (j + mosaicHeight)> window_height:\n",
    "                    mosaicHeight = window_height - j\n",
    "\n",
    "\n",
    "                tmp_color = frame[j, i]\n",
    "                frame[j:(j + mosaicHeight), i:(i + mosaicWidth)] = tmp_color\n",
    "    # 表示\n",
    "    cv2.imshow('frame',frame)\n",
    "\n",
    "    if cv2.waitKey(5) & 0xFF == ord('q'):\n",
    "        break\n",
    "\n",
    "# 終了処理\n",
    "cap.release()\n",
    "cv2.destroyAllWindows()"
   ]
  },
  {
   "cell_type": "code",
   "execution_count": null,
   "metadata": {},
   "outputs": [],
   "source": []
  }
 ],
 "metadata": {
  "kernelspec": {
   "display_name": "Python 3",
   "language": "python",
   "name": "python3"
  },
  "language_info": {
   "codemirror_mode": {
    "name": "ipython",
    "version": 3
   },
   "file_extension": ".py",
   "mimetype": "text/x-python",
   "name": "python",
   "nbconvert_exporter": "python",
   "pygments_lexer": "ipython3",
   "version": "3.7.6"
  }
 },
 "nbformat": 4,
 "nbformat_minor": 4
}
