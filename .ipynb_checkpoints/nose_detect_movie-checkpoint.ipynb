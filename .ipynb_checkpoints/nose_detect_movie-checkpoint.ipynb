{
 "cells": [
  {
   "cell_type": "code",
   "execution_count": 14,
   "metadata": {},
   "outputs": [],
   "source": [
    "import numpy as np\n",
    "import cv2\n",
    "import time"
   ]
  },
  {
   "cell_type": "code",
   "execution_count": 15,
   "metadata": {},
   "outputs": [],
   "source": [
    "cap = cv2.VideoCapture(0)\n",
    "# cap.set(cv2.CAP_PROP_FPS, 10)\n",
    "# cap.set(cv2.CAP_PROP_FRAME_WIDTH, 400) # カメラ画像の横幅を1280に設定\n",
    "# cap.set(cv2.CAP_PROP_FRAME_HEIGHT, 450) # カメラ画像の縦幅を720に設定\n",
    "cascade_path =  \"OpenCV-detection-models-master/haarcascades/haarcascade_mcs_nose.xml\"\n",
    "cascade = cv2.CascadeClassifier(cascade_path)"
   ]
  },
  {
   "cell_type": "code",
   "execution_count": 16,
   "metadata": {},
   "outputs": [],
   "source": [
    "while(cap.isOpened()):\n",
    "\n",
    "    ret, frame = cap.read()\n",
    "    \n",
    "    # フレーム読めなかったら終了\n",
    "    if not ret: break\n",
    "    \n",
    "    # 左右反転\n",
    "    frame = cv2.flip(frame, 1)\n",
    "    window_height, window_width = frame.shape[:2]\n",
    "    \n",
    "    # フレームをHSVに変換\n",
    "    hsv = cv2.cvtColor(frame, cv2.COLOR_BGR2HSV)\n",
    "    # 指定した色に基づいたマスク画像の生成\n",
    "    # 対象領域が白くなっている\n",
    "    # 色の上限をlower_blackとupper_blackにする\n",
    "#     img_mask = cv2.inRange(hsv, lower_black, upper_black)\n",
    "\n",
    "    # 顔認識\n",
    "    gray = cv2.cvtColor(frame, cv2.COLOR_BGR2GRAY)\n",
    "    noses = cascade.detectMultiScale(gray, scaleFactor=1.5, minNeighbors=10, minSize=(30, 30))\n",
    "    # 囲みの色、緑\n",
    "    rectangle_color = (0, 255, 0)\n",
    "    \n",
    "    if len(noses) > 0:\n",
    "        for nose in noses:\n",
    "            cv2.rectangle(frame, tuple(nose[0:2]),tuple(nose[0:2] + nose[2:4]), rectangle_color, thickness=2)\n",
    "\n",
    "    # 描画\n",
    "    cv2.imshow('nose', frame)\n",
    "    \n",
    "    if cv2.waitKey(5) & 0xFF == ord('q'):\n",
    "        break\n",
    "\n",
    "# 終了処理\n",
    "cap.release()\n",
    "cv2.destroyAllWindows()\n",
    "    "
   ]
  },
  {
   "cell_type": "code",
   "execution_count": 36,
   "metadata": {},
   "outputs": [],
   "source": [
    "while(cap.isOpened()):\n",
    "\n",
    "    ret, frame = cap.read()\n",
    "    \n",
    "    # フレーム読めなかったら終了\n",
    "    if not ret: break\n",
    "    \n",
    "    # 左右反転\n",
    "    frame = cv2.flip(frame, 1)\n",
    "    window_height, window_width = frame.shape[:2]\n",
    "    \n",
    "    # フレームをHSVに変換\n",
    "    hsv = cv2.cvtColor(frame, cv2.COLOR_BGR2HSV)\n",
    "    # 指定した色に基づいたマスク画像の生成\n",
    "    # 対象領域が白くなっている\n",
    "    # 色の上限をlower_blackとupper_blackにする\n",
    "#     img_mask = cv2.inRange(hsv, lower_black, upper_black)\n",
    "\n",
    "    # 顔認識\n",
    "    gray = cv2.cvtColor(frame, cv2.COLOR_BGR2GRAY)\n",
    "    noses = cascade.detectMultiScale(gray, scaleFactor=1.5, minNeighbors=10, minSize=(30, 30))\n",
    "    # 囲みの色、緑\n",
    "    rectangle_color = (0, 255, 0)\n",
    "    \n",
    "    if len(noses) > 0:\n",
    "        for nose in noses:\n",
    "            cv2.rectangle(frame, tuple(nose[0:2]),tuple(nose[0:2] + nose[2:4]), rectangle_color, thickness=2)\n",
    "            # 顔の識別\n",
    "            cut_frame = frame[nose[1]:nose[1]+nose[3],nose[0]:nose[0]+nose[2]]\n",
    "            # サイズの縮小\n",
    "            cut_frame = cv2.resize(cut_frame,(nose[2]//20, nose[3]//20))\n",
    "            # 元のサイズにリサイズ。\n",
    "            # cv2.INTER_NEAREST（最近傍補間）オプションを指定することで荒くなる。デフォルトでは cv2.INTER_LINEAR（バイリニア補間）となり、滑らかなモザイクとなる。\n",
    "            cut_frame = cv2.resize(cut_frame,(nose[2], nose[3]),cv2.INTER_NEAREST)\n",
    "            # 縮小→復元画像で元の画像と置換\n",
    "            frame[nose[1]:nose[1]+nose[3],nose[0]:nose[0]+nose[2]]=cut_frame\n",
    "\n",
    "\n",
    "    # 描画\n",
    "    cv2.imshow('nose', frame)\n",
    "    \n",
    "    if cv2.waitKey(5) & 0xFF == ord('q'):\n",
    "        break\n",
    "\n",
    "# 終了処理\n",
    "cap.release()\n",
    "cv2.destroyAllWindows()\n",
    "    "
   ]
  },
  {
   "cell_type": "code",
   "execution_count": null,
   "metadata": {},
   "outputs": [],
   "source": []
  }
 ],
 "metadata": {
  "kernelspec": {
   "display_name": "Python 3",
   "language": "python",
   "name": "python3"
  },
  "language_info": {
   "codemirror_mode": {
    "name": "ipython",
    "version": 3
   },
   "file_extension": ".py",
   "mimetype": "text/x-python",
   "name": "python",
   "nbconvert_exporter": "python",
   "pygments_lexer": "ipython3",
   "version": "3.7.6"
  }
 },
 "nbformat": 4,
 "nbformat_minor": 4
}
