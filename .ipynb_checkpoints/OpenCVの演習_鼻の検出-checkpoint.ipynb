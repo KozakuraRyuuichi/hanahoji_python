{
 "cells": [
  {
   "cell_type": "code",
   "execution_count": 0,
   "metadata": {
    "colab": {},
    "colab_type": "code",
    "id": "QKxVnFvV9TAF"
   },
   "outputs": [],
   "source": [
    "# OpenCVで鼻の検出\n",
    "\n",
    "import cv2\n",
    "from PIL import Image\n",
    "import matplotlib.pyplot as plt\n",
    "import numpy as np\n",
    "\n",
    "#cascade = cv2.CascadeClassifier(\"haarcascade_frontalface_default.xml\") # 顔の検出器\n",
    "cascade = cv2.CascadeClassifier(\"haarcascade_mcs_nose.xml\") # 鼻の検出器\n",
    "img = cv2.imread(\"meg1.jpg\")\n",
    "\n",
    "gray = cv2.cvtColor(img, cv2.COLOR_BGR2GRAY) # グレースケールに変換\n",
    "rects = cascade.detectMultiScale(gray, 1.3, 5) # 検出の実行\n",
    "for (x,y,w,h) in rects:\n",
    "  print(x,y,w,h)\n",
    "  img = cv2.rectangle(img,(x,y),(x+w,y+h),(255,0,0),5) # 青色の枠を描く\n",
    "cv2.imwrite(\"result.jpg\", img) # 画像の保存\n",
    "\n",
    "# 画像の表示\n",
    "img = Image.open(\"result.jpg\")\n",
    "a = np.array(img)\n",
    "plt.imshow(a)"
   ]
  }
 ],
 "metadata": {
  "colab": {
   "name": "OpenCVの演習 - 鼻の検出.ipynb",
   "provenance": []
  },
  "kernelspec": {
   "display_name": "Python 3",
   "language": "python",
   "name": "python3"
  },
  "language_info": {
   "codemirror_mode": {
    "name": "ipython",
    "version": 3
   },
   "file_extension": ".py",
   "mimetype": "text/x-python",
   "name": "python",
   "nbconvert_exporter": "python",
   "pygments_lexer": "ipython3",
   "version": "3.7.6"
  }
 },
 "nbformat": 4,
 "nbformat_minor": 1
}
