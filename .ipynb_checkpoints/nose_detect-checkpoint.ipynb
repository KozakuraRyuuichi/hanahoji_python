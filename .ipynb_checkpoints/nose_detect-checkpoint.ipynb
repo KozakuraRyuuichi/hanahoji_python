{
 "cells": [
  {
   "cell_type": "code",
   "execution_count": 23,
   "metadata": {},
   "outputs": [],
   "source": [
    "import cv2\n",
    "cascade_path =  \"OpenCV-detection-models-master/haarcascades/haarcascade_mcs_nose.xml\""
   ]
  },
  {
   "cell_type": "code",
   "execution_count": 24,
   "metadata": {},
   "outputs": [],
   "source": [
    "# 使用ファイルと入出力ディレクトリ\n",
    "image_file = \"suzu1.jpg\"\n",
    "image_path = \"./inputs/\" + image_file\n",
    "output_path = \"./outputs/\" + image_file\n",
    "\n",
    "# ディレクトリ確認用(うまく行かなかった時用)\n",
    "#import os\n",
    "#print(os.path.exists(image_path))\n",
    "\n",
    "#ファイル読み込み\n",
    "image = cv2.imread(image_path)\n",
    "\n",
    "#グレースケール変換\n",
    "image_gray = cv2.cvtColor(image, cv2.COLOR_BGR2GRAY)\n",
    "\n",
    "#カスケード分類器の特徴量を取得する\n",
    "cascade = cv2.CascadeClassifier(cascade_path)"
   ]
  },
  {
   "cell_type": "code",
   "execution_count": 25,
   "metadata": {},
   "outputs": [],
   "source": [
    "#物体認識（顔認識）の実行\n",
    "#image – CV_8U 型の行列．ここに格納されている画像中から物体が検出されます\n",
    "#objects – 矩形を要素とするベクトル．それぞれの矩形は，検出した物体を含みます\n",
    "#scaleFactor – 各画像スケールにおける縮小量を表します\n",
    "#minNeighbors – 物体候補となる矩形は，最低でもこの数だけの近傍矩形を含む必要があります\n",
    "#flags – このパラメータは，新しいカスケードでは利用されません．古いカスケードに対しては，cvHaarDetectObjects 関数の場合と同じ意味を持ちます\n",
    "#minSize – 物体が取り得る最小サイズ．これよりも小さい物体は無視されます\n",
    "facerect = cascade.detectMultiScale(image_gray, scaleFactor=1.3, minNeighbors=5, minSize=(15, 15))\n",
    "\n",
    "#print(facerect)\n",
    "color = (255, 255, 255) #白"
   ]
  },
  {
   "cell_type": "code",
   "execution_count": 26,
   "metadata": {},
   "outputs": [],
   "source": [
    "# 検出した場合\n",
    "if len(facerect) > 0:\n",
    "\n",
    "    #検出した顔を囲む矩形の作成\n",
    "    for rect in facerect:\n",
    "        cv2.rectangle(image, tuple(rect[0:2]),tuple(rect[0:2]+rect[2:4]), color, thickness=2)\n",
    "\n",
    "    #認識結果の保存\n",
    "    cv2.imwrite(output_path, image)"
   ]
  },
  {
   "cell_type": "code",
   "execution_count": null,
   "metadata": {},
   "outputs": [],
   "source": []
  }
 ],
 "metadata": {
  "kernelspec": {
   "display_name": "Python 3",
   "language": "python",
   "name": "python3"
  },
  "language_info": {
   "codemirror_mode": {
    "name": "ipython",
    "version": 3
   },
   "file_extension": ".py",
   "mimetype": "text/x-python",
   "name": "python",
   "nbconvert_exporter": "python",
   "pygments_lexer": "ipython3",
   "version": "3.7.6"
  }
 },
 "nbformat": 4,
 "nbformat_minor": 4
}
