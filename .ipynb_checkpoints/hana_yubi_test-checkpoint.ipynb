{
 "cells": [
  {
   "cell_type": "code",
   "execution_count": 90,
   "metadata": {},
   "outputs": [],
   "source": [
    "import numpy as np\n",
    "import cv2\n",
    "import time\n",
    "from src.hand_tracker import HandTracker"
   ]
  },
  {
   "cell_type": "code",
   "execution_count": 91,
   "metadata": {},
   "outputs": [],
   "source": [
    "# 使用ファイルと入出力ディレクトリ\n",
    "image_file = \"oreore4.jpg\"\n",
    "image_path = \"./inputs/\" + image_file\n",
    "output_path = \"./outputs/\" + image_file\n",
    "\n",
    "#ファイル読み込み\n",
    "image = cv2.imread(image_path)\n",
    "#グレースケール変換\n",
    "gray = cv2.cvtColor(image, cv2.COLOR_BGR2GRAY)\n",
    "\n",
    "# 鼻検知\n",
    "# カスケードファイルの読み込み\n",
    "cascade_path =  \"OpenCV-detection-models-master/haarcascades/haarcascade_mcs_nose.xml\"\n",
    "cascade = cv2.CascadeClassifier(cascade_path)\n",
    "\n",
    "# 囲み線の色を緑に設定\n",
    "rectangle_color = (0, 255, 0)  \n",
    "\n",
    "# 指検知\n",
    "# 宿題：何を読み込んでるのか理解必要\n",
    "window = \"Hand Tracking\"\n",
    "palm_model_path = \"models/palm_detection_without_custom_op.tflite\"\n",
    "landmark_model_path = \"models/hand_landmark.tflite\"\n",
    "anchors_path = \"models/anchors.csv\"\n",
    "\n",
    "# 投影の色を設定\n",
    "point_color = (0, 255, 0)\n",
    "connection_color = (255, 0, 0)\n",
    "color = (255, 255, 255)\n",
    "thickness = 2"
   ]
  },
  {
   "cell_type": "code",
   "execution_count": 92,
   "metadata": {},
   "outputs": [
    {
     "name": "stdout",
     "output_type": "stream",
     "text": [
      "[567 886 116  97]\n"
     ]
    }
   ],
   "source": [
    "# 鼻検知\n",
    "noses = cascade.detectMultiScale(gray, scaleFactor=1.3, minNeighbors=10, minSize=(30, 30))\n",
    "for nose in noses:\n",
    "    print(nose)"
   ]
  },
  {
   "cell_type": "code",
   "execution_count": 93,
   "metadata": {},
   "outputs": [
    {
     "name": "stdout",
     "output_type": "stream",
     "text": [
      "[567 886 116  97]\n"
     ]
    }
   ],
   "source": [
    "# 検出した場合\n",
    "if len(noses) > 0:\n",
    "\n",
    "    #検出した顔を囲む矩形の作成\n",
    "    for nose in noses:\n",
    "        cv2.rectangle(image, tuple(nose[0:2]),tuple(nose[0:2]+nose[2:4]), color, thickness=2)\n",
    "        print(nose)\n",
    "\n",
    "    #認識結果の保存\n",
    "    cv2.imwrite(output_path, image)"
   ]
  },
  {
   "cell_type": "code",
   "execution_count": 94,
   "metadata": {},
   "outputs": [],
   "source": [
    "# 宿題：指の投影ポイントに番号を割り振る\n",
    "# タプルにしてみた\n",
    "\n",
    "\n",
    "    #        8   12  16  20\n",
    "    #        |   |   |   |\n",
    "    #        7   11  15  19\n",
    "    #    4   |   |   |   |\n",
    "    #    |   6   10  14  18\n",
    "    #    3   |   |   |   |\n",
    "    #    |   5---9---13--17\n",
    "    #    2    \\         /\n",
    "    #     \\    \\       /\n",
    "    #      1    \\     /\n",
    "    #       \\    \\   /\n",
    "    #        ------0-\n",
    "\n",
    "\n",
    "connections = (\n",
    "    (0, 1), (1, 2), (2, 3), (3, 4),\n",
    "    (5, 6), (6, 7), (7, 8),\n",
    "    (9, 10), (10, 11), (11, 12),\n",
    "    (13, 14), (14, 15), (15, 16),\n",
    "    (17, 18), (18, 19), (19, 20),\n",
    "    (0, 5), (5, 9), (9, 13), (13, 17), (0, 17)\n",
    ")\n",
    "\n",
    "# 宿題：検知器の設定？    \n",
    "detector = HandTracker(\n",
    "    palm_model_path,\n",
    "    landmark_model_path,\n",
    "    anchors_path,\n",
    "    box_shift=0.2,\n",
    "    box_enlarge=1.3\n",
    ")\n",
    "\n",
    "# 宿題：おそらくdetectorメソッドがBGR読み込みと思われる\n",
    "image_hana = cv2.cvtColor(image, cv2.COLOR_BGR2RGB)\n",
    "points, _ = detector(image_hana)\n",
    "if points is not None:\n",
    "    for point in points:\n",
    "        x, y = point # それぞれのpointのx座標、y座標を取得\n",
    "        # input画像、中心座標、半径、色、線幅\n",
    "        cv2.circle(image, (int(x), int(y)), thickness * 2, point_color, thickness)\n",
    "    # おそらく線の始端と終端のx座標とy座標\n",
    "    for connection in connections:\n",
    "        x0, y0 = points[connection[0]] # connection[0] = (x0, y0)\n",
    "        x1, y1 = points[connection[1]] # connection[0] = (x1, y1)\n",
    "        #　input画像、始端座標、終端座標、色、線幅\n",
    "        cv2.line(image, (int(x0), int(y0)), (int(x1), int(y1)), connection_color, thickness)"
   ]
  },
  {
   "cell_type": "code",
   "execution_count": 95,
   "metadata": {},
   "outputs": [
    {
     "name": "stdout",
     "output_type": "stream",
     "text": [
      "625.0\n"
     ]
    }
   ],
   "source": [
    "center = nose[0:2] + nose[2:4] / 2\n",
    "# center.dtype\n",
    "# tuple(center)\n",
    "x_cen = center[0]\n",
    "y_cen = center[1]\n",
    "print(x_cen)\n",
    "# cv2.circle(image, (int(x_cen), int(y_cen)), thickness * 2, point_color, thickness)"
   ]
  },
  {
   "cell_type": "code",
   "execution_count": 96,
   "metadata": {},
   "outputs": [
    {
     "name": "stdout",
     "output_type": "stream",
     "text": [
      "[ 910.32978503 1331.39939197]\n",
      "[ 932.91480578 1246.26959693]\n",
      "[ 886.47946192 1195.91757103]\n",
      "[ 824.37783697 1169.82648874]\n",
      "[ 818.24186068 1102.54611773]\n",
      "[752.95944508 996.65538464]\n",
      "[696.24935506 939.79794898]\n",
      "[ 765.69812121 1144.85479941]\n",
      "[ 707.39203401 1130.2667867 ]\n",
      "[ 741.58691249 1167.75512547]\n",
      "[ 734.03721599 1204.14129062]\n",
      "[ 703.8030551  1195.19469537]\n",
      "[ 733.84140898 1221.73091102]\n",
      "[ 712.71505855 1260.7294294 ]\n",
      "[ 697.65332454 1251.34315476]\n",
      "[ 724.73156449 1272.20569473]\n",
      "[ 910.32978503 1331.39939197]\n",
      "[ 818.24186068 1102.54611773]\n",
      "[ 765.69812121 1144.85479941]\n",
      "[ 734.03721599 1204.14129062]\n",
      "[ 910.32978503 1331.39939197]\n"
     ]
    }
   ],
   "source": [
    "for connection in connections:\n",
    "#     print(connection[0])\n",
    "    print(points[connection[0]])"
   ]
  },
  {
   "cell_type": "code",
   "execution_count": 34,
   "metadata": {},
   "outputs": [
    {
     "data": {
      "text/plain": [
       "dtype('float32')"
      ]
     },
     "execution_count": 34,
     "metadata": {},
     "output_type": "execute_result"
    }
   ],
   "source": [
    "a =a.astype(np.float32)\n",
    "a.dtype"
   ]
  },
  {
   "cell_type": "code",
   "execution_count": 97,
   "metadata": {},
   "outputs": [
    {
     "data": {
      "text/plain": [
       "array([625. , 934.5])"
      ]
     },
     "execution_count": 97,
     "metadata": {},
     "output_type": "execute_result"
    }
   ],
   "source": [
    "N_za = np.array([x_cen, y_cen])\n",
    "N_za"
   ]
  },
  {
   "cell_type": "code",
   "execution_count": 98,
   "metadata": {},
   "outputs": [
    {
     "data": {
      "text/plain": [
       "array([-106.21196732,  -91.56549941])"
      ]
     },
     "execution_count": 98,
     "metadata": {},
     "output_type": "execute_result"
    }
   ],
   "source": [
    "length = N_za - p８\n",
    "\n",
    "std_length = p8 - p7\n",
    "std_length"
   ]
  },
  {
   "cell_type": "code",
   "execution_count": 99,
   "metadata": {},
   "outputs": [
    {
     "name": "stdout",
     "output_type": "stream",
     "text": [
      "36.577419800560804\n",
      "140.23274469274904\n"
     ]
    }
   ],
   "source": [
    "s_x = p8[0]\n",
    "s_y = p8[1]\n",
    "\n",
    "\n",
    "std_x = p7[0]\n",
    "std_y = p7[1]\n",
    "\n",
    "result = np.linalg.norm(length)\n",
    "std_result = np.linalg.norm(std_length)\n",
    "ratio = result / std_result\n",
    "print(result)\n",
    "print(std_result)"
   ]
  },
  {
   "cell_type": "code",
   "execution_count": 100,
   "metadata": {},
   "outputs": [
    {
     "data": {
      "text/plain": [
       "array([[[207, 210, 215],\n",
       "        [207, 210, 215],\n",
       "        [207, 210, 215],\n",
       "        ...,\n",
       "        [209, 211, 212],\n",
       "        [209, 211, 212],\n",
       "        [209, 211, 212]],\n",
       "\n",
       "       [[207, 210, 215],\n",
       "        [207, 210, 215],\n",
       "        [207, 210, 215],\n",
       "        ...,\n",
       "        [209, 211, 212],\n",
       "        [209, 211, 212],\n",
       "        [209, 211, 212]],\n",
       "\n",
       "       [[207, 210, 215],\n",
       "        [207, 210, 215],\n",
       "        [207, 210, 215],\n",
       "        ...,\n",
       "        [209, 211, 212],\n",
       "        [209, 211, 212],\n",
       "        [209, 211, 212]],\n",
       "\n",
       "       ...,\n",
       "\n",
       "       [[ 89,  89,  73],\n",
       "        [ 96,  96,  80],\n",
       "        [ 91,  91,  75],\n",
       "        ...,\n",
       "        [182, 196, 219],\n",
       "        [181, 195, 218],\n",
       "        [179, 193, 216]],\n",
       "\n",
       "       [[ 89,  89,  73],\n",
       "        [ 96,  96,  80],\n",
       "        [ 91,  91,  75],\n",
       "        ...,\n",
       "        [181, 195, 218],\n",
       "        [179, 193, 216],\n",
       "        [176, 190, 213]],\n",
       "\n",
       "       [[ 89,  89,  73],\n",
       "        [ 96,  96,  80],\n",
       "        [ 91,  91,  75],\n",
       "        ...,\n",
       "        [180, 194, 217],\n",
       "        [178, 192, 215],\n",
       "        [176, 190, 213]]], dtype=uint8)"
      ]
     },
     "execution_count": 100,
     "metadata": {},
     "output_type": "execute_result"
    }
   ],
   "source": [
    "cv2.line(image, (int(s_x), int(s_y)), (int(x_cen), int(y_cen)), (0, 0, 255), thickness)"
   ]
  },
  {
   "cell_type": "code",
   "execution_count": 109,
   "metadata": {},
   "outputs": [
    {
     "data": {
      "text/plain": [
       "625"
      ]
     },
     "execution_count": 109,
     "metadata": {},
     "output_type": "execute_result"
    }
   ],
   "source": [
    "int(x_cen)"
   ]
  },
  {
   "cell_type": "code",
   "execution_count": 103,
   "metadata": {},
   "outputs": [
    {
     "ename": "TypeError",
     "evalue": "integer argument expected, got float",
     "output_type": "error",
     "traceback": [
      "\u001b[0;31m---------------------------------------------------------------------------\u001b[0m",
      "\u001b[0;31mTypeError\u001b[0m                                 Traceback (most recent call last)",
      "\u001b[0;32m<ipython-input-103-d594fb0951a0>\u001b[0m in \u001b[0;36m<module>\u001b[0;34m\u001b[0m\n\u001b[1;32m      3\u001b[0m \u001b[0;31m# cv2.putText(image, str(std_result), (800, 1000), font, 1,(255, 255, 255), 3, cv2.LINE_AA)\u001b[0m\u001b[0;34m\u001b[0m\u001b[0;34m\u001b[0m\u001b[0;34m\u001b[0m\u001b[0m\n\u001b[1;32m      4\u001b[0m \u001b[0;31m# cv2.putText(image, str(ratio), (500, 1200), font, 1,(255, 255, 255), 4, cv2.LINE_AA)\u001b[0m\u001b[0;34m\u001b[0m\u001b[0;34m\u001b[0m\u001b[0;34m\u001b[0m\u001b[0m\n\u001b[0;32m----> 5\u001b[0;31m \u001b[0mcv2\u001b[0m\u001b[0;34m.\u001b[0m\u001b[0mputText\u001b[0m\u001b[0;34m(\u001b[0m\u001b[0mimage\u001b[0m\u001b[0;34m,\u001b[0m \u001b[0;34m\"ほじってますか？\"\u001b[0m\u001b[0;34m,\u001b[0m \u001b[0mtuple\u001b[0m\u001b[0;34m(\u001b[0m\u001b[0mcenter\u001b[0m\u001b[0;34m)\u001b[0m\u001b[0;34m,\u001b[0m \u001b[0mfont\u001b[0m\u001b[0;34m,\u001b[0m \u001b[0;36m1\u001b[0m\u001b[0;34m,\u001b[0m\u001b[0;34m(\u001b[0m\u001b[0;36m255\u001b[0m\u001b[0;34m,\u001b[0m \u001b[0;36m255\u001b[0m\u001b[0;34m,\u001b[0m \u001b[0;36m255\u001b[0m\u001b[0;34m)\u001b[0m\u001b[0;34m,\u001b[0m \u001b[0;36m3\u001b[0m\u001b[0;34m,\u001b[0m \u001b[0mcv2\u001b[0m\u001b[0;34m.\u001b[0m\u001b[0mLINE_AA\u001b[0m\u001b[0;34m)\u001b[0m\u001b[0;34m\u001b[0m\u001b[0;34m\u001b[0m\u001b[0m\n\u001b[0m",
      "\u001b[0;31mTypeError\u001b[0m: integer argument expected, got float"
     ]
    }
   ],
   "source": [
    "font = cv2.FONT_HERSHEY_SIMPLEX\n",
    "# cv2.putText(image, str(result), (800, 800), font, 1,(255, 255, 255), 3, cv2.LINE_AA)\n",
    "# cv2.putText(image, str(std_result), (800, 1000), font, 1,(255, 255, 255), 3, cv2.LINE_AA)\n",
    "# cv2.putText(image, str(ratio), (500, 1200), font, 1,(255, 255, 255), 4, cv2.LINE_AA)\n",
    "cv2.putText(image, \"ほじってますか？\", tuple(center), font, 1,(255, 255, 255), 3, cv2.LINE_AA)"
   ]
  },
  {
   "cell_type": "code",
   "execution_count": 710,
   "metadata": {},
   "outputs": [
    {
     "data": {
      "text/plain": [
       "True"
      ]
     },
     "execution_count": 710,
     "metadata": {},
     "output_type": "execute_result"
    }
   ],
   "source": [
    "#認識結果の保存\n",
    "cv2.imwrite(output_path, image)"
   ]
  },
  {
   "cell_type": "code",
   "execution_count": null,
   "metadata": {},
   "outputs": [],
   "source": []
  },
  {
   "cell_type": "code",
   "execution_count": null,
   "metadata": {},
   "outputs": [],
   "source": []
  },
  {
   "cell_type": "code",
   "execution_count": null,
   "metadata": {},
   "outputs": [],
   "source": []
  }
 ],
 "metadata": {
  "kernelspec": {
   "display_name": "Python 3",
   "language": "python",
   "name": "python3"
  },
  "language_info": {
   "codemirror_mode": {
    "name": "ipython",
    "version": 3
   },
   "file_extension": ".py",
   "mimetype": "text/x-python",
   "name": "python",
   "nbconvert_exporter": "python",
   "pygments_lexer": "ipython3",
   "version": "3.7.6"
  }
 },
 "nbformat": 4,
 "nbformat_minor": 4
}
